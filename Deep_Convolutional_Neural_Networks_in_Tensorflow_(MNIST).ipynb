{
  "nbformat": 4,
  "nbformat_minor": 0,
  "metadata": {
    "colab": {
      "provenance": [],
      "authorship_tag": "ABX9TyMoD373aR1vrZ4AOUuT73Oz",
      "include_colab_link": true
    },
    "kernelspec": {
      "name": "python3",
      "display_name": "Python 3"
    },
    "language_info": {
      "name": "python"
    },
    "accelerator": "GPU",
    "gpuClass": "standard"
  },
  "cells": [
    {
      "cell_type": "markdown",
      "metadata": {
        "id": "view-in-github",
        "colab_type": "text"
      },
      "source": [
        "<a href=\"https://colab.research.google.com/github/Akhil-2019/ML-Mini-projects/blob/main/Deep_Convolutional_Neural_Networks_in_Tensorflow_(MNIST).ipynb\" target=\"_parent\"><img src=\"https://colab.research.google.com/assets/colab-badge.svg\" alt=\"Open In Colab\"/></a>"
      ]
    },
    {
      "cell_type": "markdown",
      "source": [
        "# Implementing deep convolutional neural networks (CNNs) in Keras, and applying them to Image Analysis"
      ],
      "metadata": {
        "id": "CicMD7l8TJV1"
      }
    },
    {
      "cell_type": "code",
      "execution_count": 23,
      "metadata": {
        "colab": {
          "base_uri": "https://localhost:8080/"
        },
        "id": "XCLbL9ONGYE4",
        "outputId": "0e8261e1-15f6-4924-c2c3-3797c257ddd8"
      },
      "outputs": [
        {
          "output_type": "stream",
          "name": "stdout",
          "text": [
            "Mounted at /content/drive/\n"
          ]
        }
      ],
      "source": [
        "from google.colab import drive\n",
        "drive.mount('/content/drive/',force_remount=True)"
      ]
    },
    {
      "cell_type": "code",
      "source": [
        "# https://robertbrucecarter.com/writing/2020/06/setting-your-working-directory-to-google-drive-in-a-colab-notebook/\n",
        "\n",
        "import os \n",
        "\n",
        "# Set your working directory to a folder in your Google Drive. This way, if your notebook times out,\n",
        "# your files will be saved in your Google Drive!\n",
        "\n",
        "# the base Google Drive directory\n",
        "root_dir = \"/content/drive/My Drive/\"\n",
        "\n",
        "# choose where you want your project files to be saved\n",
        "project_folder = \"Colab Notebooks/ML Projects (LJMU)/Lab Sessions/\"\n",
        "\n",
        "def create_and_set_working_directory(project_folder):\n",
        "  # check if your project folder exists. if not, it will be created.\n",
        "  if os.path.isdir(root_dir + project_folder) == False:\n",
        "    os.mkdir(root_dir + project_folder)\n",
        "    print(root_dir + project_folder + ' did not exist but was created.')\n",
        "\n",
        "  # change the OS to use your project folder as the working directory\n",
        "  os.chdir(root_dir + project_folder)\n"
      ],
      "metadata": {
        "id": "CSL0Y7p7WkZ7"
      },
      "execution_count": 41,
      "outputs": []
    },
    {
      "cell_type": "code",
      "source": [
        "# create a test file to make sure it shows up in the right place\n",
        "!touch 'new_file_in_working_directory.txt'"
      ],
      "metadata": {
        "id": "oUa9D51FZ1K1"
      },
      "execution_count": 42,
      "outputs": []
    },
    {
      "cell_type": "code",
      "source": [
        "print('\\nYour working directory was changed to ' + root_dir + project_folder + \\\n",
        "        \"\\n\\nAn empty text file was created there. You can also run !pwd to confirm the current working directory.\" )"
      ],
      "metadata": {
        "colab": {
          "base_uri": "https://localhost:8080/"
        },
        "id": "AoKgQhOUZ8iF",
        "outputId": "d9b196ab-7341-4413-9114-ef856f7e4699"
      },
      "execution_count": 43,
      "outputs": [
        {
          "output_type": "stream",
          "name": "stdout",
          "text": [
            "\n",
            "Your working directory was changed to /content/drive/My Drive/Colab Notebooks/ML Projects (LJMU)/Lab Sessions/\n",
            "\n",
            "An empty text file was created there. You can also run !pwd to confirm the current working directory.\n"
          ]
        }
      ]
    },
    {
      "cell_type": "code",
      "source": [
        "create_and_set_working_directory(project_folder)"
      ],
      "metadata": {
        "id": "RqBk-JPraASU"
      },
      "execution_count": 45,
      "outputs": []
    },
    {
      "cell_type": "code",
      "source": [
        "!pwd"
      ],
      "metadata": {
        "colab": {
          "base_uri": "https://localhost:8080/"
        },
        "id": "NIinEVvya7kM",
        "outputId": "7745fef3-991f-4d6f-e4f3-a9b82e7e78cc"
      },
      "execution_count": 46,
      "outputs": [
        {
          "output_type": "stream",
          "name": "stdout",
          "text": [
            "/content/drive/My Drive/Colab Notebooks/ML Projects (LJMU)/Lab Sessions\n"
          ]
        }
      ]
    },
    {
      "cell_type": "code",
      "source": [
        "from matplotlib import pyplot as plt\n",
        "import numpy as np\n",
        "%matplotlib inline"
      ],
      "metadata": {
        "id": "sSTfjL5SIJR2"
      },
      "execution_count": 25,
      "outputs": []
    },
    {
      "cell_type": "markdown",
      "source": [
        "## Dataset\n",
        "We will use the MNIST dataset. In this occassion the images won't be flattened prior to be used in the network, but they will be inputed as they are (images or arrays).\n",
        "\n",
        "Download the MNIST dataset from Keras:"
      ],
      "metadata": {
        "id": "iht5wG6QSBbY"
      }
    },
    {
      "cell_type": "code",
      "source": [
        "from tensorflow.keras.datasets import mnist\n",
        "(X_train_img, y_train_img), (X_test_img, y_test_img) = mnist.load_data()"
      ],
      "metadata": {
        "colab": {
          "base_uri": "https://localhost:8080/"
        },
        "id": "XYmJnYUMPqjD",
        "outputId": "13b4bc32-e61e-45df-df4b-55e1dcdb94d4"
      },
      "execution_count": 7,
      "outputs": [
        {
          "output_type": "stream",
          "name": "stdout",
          "text": [
            "Downloading data from https://storage.googleapis.com/tensorflow/tf-keras-datasets/mnist.npz\n",
            "11490434/11490434 [==============================] - 1s 0us/step\n"
          ]
        }
      ]
    },
    {
      "cell_type": "code",
      "source": [
        "\n",
        "print('X_train_img dimensions: ', X_train_img.shape)\n",
        "print('y_train_img dimensions: ', y_train_img.shape)\n",
        "print('X_test_img dimensions: ', X_test_img.shape)\n",
        "print('y_test_img dimensions: ', y_test_img.shape)"
      ],
      "metadata": {
        "colab": {
          "base_uri": "https://localhost:8080/"
        },
        "id": "4f9Y8svJPxkq",
        "outputId": "13fd983d-432a-4269-d6e2-d70f11d59f06"
      },
      "execution_count": 8,
      "outputs": [
        {
          "output_type": "stream",
          "name": "stdout",
          "text": [
            "X_train_img dimensions:  (60000, 28, 28)\n",
            "y_train_img dimensions:  (60000,)\n",
            "X_test_img dimensions:  (10000, 28, 28)\n",
            "y_test_img dimensions:  (10000,)\n"
          ]
        }
      ]
    },
    {
      "cell_type": "markdown",
      "source": [
        "MNIST images are all pre-aligned (e.g. each image only contains a hand-drawn digit). In addition, the images all have the same square size of 28×28 pixels, and all are greyscale.\n",
        "\n",
        "CNN models (2D-CNNs, more precisely) takes 4D arrays as inputs: samples, 2D image coordinates, and channels. Colour RGB images have 3 channels (Red, Green and Blue), whilst greyscale images, 1 channel only. Therefore, we must reshape the data arrays to have a single channel:"
      ],
      "metadata": {
        "id": "MhHsOrYuQlEF"
      }
    },
    {
      "cell_type": "code",
      "source": [
        "X_train = X_train_img.reshape((X_train_img.shape[0], 28, 28, 1))\n",
        "X_test = X_test_img.reshape((X_test_img.shape[0], 28, 28, 1))\n",
        "print('X_train dimensions: ', X_train.shape)\n",
        "print('X_test dimensions: ', X_test.shape)"
      ],
      "metadata": {
        "colab": {
          "base_uri": "https://localhost:8080/"
        },
        "id": "qs-IrlLgP4oB",
        "outputId": "15d9848f-5810-444f-c428-698560db267c"
      },
      "execution_count": 9,
      "outputs": [
        {
          "output_type": "stream",
          "name": "stdout",
          "text": [
            "X_train dimensions:  (60000, 28, 28, 1)\n",
            "X_test dimensions:  (10000, 28, 28, 1)\n"
          ]
        }
      ]
    },
    {
      "cell_type": "markdown",
      "source": [
        "Classes in y_train and y_test are represented as unique integers:  0…9\n",
        " . We can, therefore, use a one hot encoding for the class element of each sample, transforming the integer into a 10 element binary vector with a 1 for the index of the class value, and 0 values for all other classes. We can achieve this with the to_categorical() utility function:"
      ],
      "metadata": {
        "id": "j7Jv_P19Rk0i"
      }
    },
    {
      "cell_type": "code",
      "source": [
        "from tensorflow.keras.utils import to_categorical\n",
        "y_train = to_categorical(y_train_img)\n",
        "y_test = to_categorical(y_test_img)\n",
        "y_train[0:5,]"
      ],
      "metadata": {
        "colab": {
          "base_uri": "https://localhost:8080/"
        },
        "id": "CaTiTH0VRAa8",
        "outputId": "57bb1772-e758-4be4-896a-e9e2b9b76a61"
      },
      "execution_count": 10,
      "outputs": [
        {
          "output_type": "execute_result",
          "data": {
            "text/plain": [
              "array([[0., 0., 0., 0., 0., 1., 0., 0., 0., 0.],\n",
              "       [1., 0., 0., 0., 0., 0., 0., 0., 0., 0.],\n",
              "       [0., 0., 0., 0., 1., 0., 0., 0., 0., 0.],\n",
              "       [0., 1., 0., 0., 0., 0., 0., 0., 0., 0.],\n",
              "       [0., 0., 0., 0., 0., 0., 0., 0., 0., 1.]], dtype=float32)"
            ]
          },
          "metadata": {},
          "execution_count": 10
        }
      ]
    },
    {
      "cell_type": "markdown",
      "source": [
        "Now, we should proceed with the data normalisation. As we know pixel values should go from 0 to 255, sacaling the data requires dividing the arrays by 255. The data values are integers, therfore we must convert to reals first."
      ],
      "metadata": {
        "id": "XVl1im0rR94A"
      }
    },
    {
      "cell_type": "code",
      "source": [
        "X_train = X_train.astype('float32')\n",
        "X_test = X_test.astype('float32')\n",
        "X_train /= 255\n",
        "X_test /= 255"
      ],
      "metadata": {
        "id": "q3ZTzJqnR9HH"
      },
      "execution_count": 11,
      "outputs": []
    },
    {
      "cell_type": "markdown",
      "source": [
        "## Building the Model"
      ],
      "metadata": {
        "id": "-S49y6i_TeWC"
      }
    },
    {
      "cell_type": "code",
      "source": [
        "from tensorflow.keras import Sequential\n",
        "from tensorflow.keras.layers import Dense\n",
        "from tensorflow.keras.layers import Conv2D\n",
        "from tensorflow.keras.layers import MaxPool2D\n",
        "from tensorflow.keras.layers import Flatten"
      ],
      "metadata": {
        "id": "U90BGUYhRqaS"
      },
      "execution_count": 12,
      "outputs": []
    },
    {
      "cell_type": "code",
      "source": [
        "model1 = Sequential()\n",
        "model1.add(Conv2D(filters=32, kernel_size=(3,3), activation='relu', input_shape=(28,28,1)))\n",
        "model1.add(MaxPool2D((2,2)))\n",
        "model1.add(Flatten())\n",
        "model1.add(Dense(512, activation='relu'))\n",
        "model1.add(Dense(10, activation='softmax'))\n",
        "model1.summary()"
      ],
      "metadata": {
        "colab": {
          "base_uri": "https://localhost:8080/"
        },
        "id": "u2Q7r9rzTlGb",
        "outputId": "6d0b9847-cab2-4ae2-823f-c77c518a0438"
      },
      "execution_count": 13,
      "outputs": [
        {
          "output_type": "stream",
          "name": "stdout",
          "text": [
            "Model: \"sequential_1\"\n",
            "_________________________________________________________________\n",
            " Layer (type)                Output Shape              Param #   \n",
            "=================================================================\n",
            " conv2d_1 (Conv2D)           (None, 26, 26, 32)        320       \n",
            "                                                                 \n",
            " max_pooling2d_1 (MaxPooling  (None, 13, 13, 32)       0         \n",
            " 2D)                                                             \n",
            "                                                                 \n",
            " flatten_1 (Flatten)         (None, 5408)              0         \n",
            "                                                                 \n",
            " dense_2 (Dense)             (None, 512)               2769408   \n",
            "                                                                 \n",
            " dense_3 (Dense)             (None, 10)                5130      \n",
            "                                                                 \n",
            "=================================================================\n",
            "Total params: 2,774,858\n",
            "Trainable params: 2,774,858\n",
            "Non-trainable params: 0\n",
            "_________________________________________________________________\n"
          ]
        }
      ]
    },
    {
      "cell_type": "code",
      "source": [
        "model1.compile(loss='categorical_crossentropy', metrics=['accuracy'], optimizer='adam')"
      ],
      "metadata": {
        "id": "Ej7wYMuBT5pp"
      },
      "execution_count": 14,
      "outputs": []
    },
    {
      "cell_type": "code",
      "source": [
        "history = model1.fit(X_train, y_train,\n",
        "          batch_size=128, epochs=50,\n",
        "          verbose=2,\n",
        "          validation_split=0.2)"
      ],
      "metadata": {
        "colab": {
          "base_uri": "https://localhost:8080/"
        },
        "id": "nq2wSC3hUJsC",
        "outputId": "cafefa1c-3b6d-4a80-9168-1d1f75891206"
      },
      "execution_count": 15,
      "outputs": [
        {
          "output_type": "stream",
          "name": "stdout",
          "text": [
            "Epoch 1/50\n",
            "375/375 - 12s - loss: 0.1936 - accuracy: 0.9423 - val_loss: 0.0716 - val_accuracy: 0.9783 - 12s/epoch - 32ms/step\n",
            "Epoch 2/50\n",
            "375/375 - 1s - loss: 0.0572 - accuracy: 0.9823 - val_loss: 0.0530 - val_accuracy: 0.9843 - 1s/epoch - 4ms/step\n",
            "Epoch 3/50\n",
            "375/375 - 1s - loss: 0.0342 - accuracy: 0.9900 - val_loss: 0.0522 - val_accuracy: 0.9840 - 1s/epoch - 4ms/step\n",
            "Epoch 4/50\n",
            "375/375 - 1s - loss: 0.0218 - accuracy: 0.9934 - val_loss: 0.0509 - val_accuracy: 0.9858 - 1s/epoch - 4ms/step\n",
            "Epoch 5/50\n",
            "375/375 - 2s - loss: 0.0155 - accuracy: 0.9952 - val_loss: 0.0510 - val_accuracy: 0.9862 - 2s/epoch - 4ms/step\n",
            "Epoch 6/50\n",
            "375/375 - 2s - loss: 0.0089 - accuracy: 0.9976 - val_loss: 0.0467 - val_accuracy: 0.9870 - 2s/epoch - 5ms/step\n",
            "Epoch 7/50\n",
            "375/375 - 1s - loss: 0.0070 - accuracy: 0.9979 - val_loss: 0.0536 - val_accuracy: 0.9868 - 1s/epoch - 4ms/step\n",
            "Epoch 8/50\n",
            "375/375 - 1s - loss: 0.0060 - accuracy: 0.9982 - val_loss: 0.0619 - val_accuracy: 0.9844 - 1s/epoch - 4ms/step\n",
            "Epoch 9/50\n",
            "375/375 - 1s - loss: 0.0045 - accuracy: 0.9987 - val_loss: 0.0676 - val_accuracy: 0.9852 - 1s/epoch - 4ms/step\n",
            "Epoch 10/50\n",
            "375/375 - 1s - loss: 0.0045 - accuracy: 0.9986 - val_loss: 0.0560 - val_accuracy: 0.9864 - 1s/epoch - 4ms/step\n",
            "Epoch 11/50\n",
            "375/375 - 1s - loss: 0.0042 - accuracy: 0.9988 - val_loss: 0.0615 - val_accuracy: 0.9853 - 1s/epoch - 4ms/step\n",
            "Epoch 12/50\n",
            "375/375 - 1s - loss: 0.0049 - accuracy: 0.9985 - val_loss: 0.0648 - val_accuracy: 0.9858 - 1s/epoch - 4ms/step\n",
            "Epoch 13/50\n",
            "375/375 - 1s - loss: 0.0021 - accuracy: 0.9994 - val_loss: 0.0662 - val_accuracy: 0.9867 - 1s/epoch - 4ms/step\n",
            "Epoch 14/50\n",
            "375/375 - 2s - loss: 0.0013 - accuracy: 0.9996 - val_loss: 0.0568 - val_accuracy: 0.9878 - 2s/epoch - 4ms/step\n",
            "Epoch 15/50\n",
            "375/375 - 2s - loss: 2.4081e-04 - accuracy: 1.0000 - val_loss: 0.0601 - val_accuracy: 0.9885 - 2s/epoch - 5ms/step\n",
            "Epoch 16/50\n",
            "375/375 - 1s - loss: 6.8878e-05 - accuracy: 1.0000 - val_loss: 0.0607 - val_accuracy: 0.9887 - 1s/epoch - 4ms/step\n",
            "Epoch 17/50\n",
            "375/375 - 1s - loss: 4.4379e-05 - accuracy: 1.0000 - val_loss: 0.0619 - val_accuracy: 0.9886 - 1s/epoch - 4ms/step\n",
            "Epoch 18/50\n",
            "375/375 - 1s - loss: 3.3070e-05 - accuracy: 1.0000 - val_loss: 0.0631 - val_accuracy: 0.9885 - 1s/epoch - 4ms/step\n",
            "Epoch 19/50\n",
            "375/375 - 1s - loss: 2.7241e-05 - accuracy: 1.0000 - val_loss: 0.0644 - val_accuracy: 0.9887 - 1s/epoch - 4ms/step\n",
            "Epoch 20/50\n",
            "375/375 - 2s - loss: 2.1651e-05 - accuracy: 1.0000 - val_loss: 0.0659 - val_accuracy: 0.9888 - 2s/epoch - 6ms/step\n",
            "Epoch 21/50\n",
            "375/375 - 2s - loss: 1.7928e-05 - accuracy: 1.0000 - val_loss: 0.0669 - val_accuracy: 0.9886 - 2s/epoch - 6ms/step\n",
            "Epoch 22/50\n",
            "375/375 - 3s - loss: 1.4972e-05 - accuracy: 1.0000 - val_loss: 0.0673 - val_accuracy: 0.9887 - 3s/epoch - 9ms/step\n",
            "Epoch 23/50\n",
            "375/375 - 2s - loss: 1.2289e-05 - accuracy: 1.0000 - val_loss: 0.0686 - val_accuracy: 0.9888 - 2s/epoch - 5ms/step\n",
            "Epoch 24/50\n",
            "375/375 - 1s - loss: 1.0338e-05 - accuracy: 1.0000 - val_loss: 0.0694 - val_accuracy: 0.9886 - 1s/epoch - 4ms/step\n",
            "Epoch 25/50\n",
            "375/375 - 1s - loss: 8.8159e-06 - accuracy: 1.0000 - val_loss: 0.0702 - val_accuracy: 0.9889 - 1s/epoch - 4ms/step\n",
            "Epoch 26/50\n",
            "375/375 - 1s - loss: 7.3139e-06 - accuracy: 1.0000 - val_loss: 0.0715 - val_accuracy: 0.9887 - 1s/epoch - 4ms/step\n",
            "Epoch 27/50\n",
            "375/375 - 1s - loss: 6.1150e-06 - accuracy: 1.0000 - val_loss: 0.0713 - val_accuracy: 0.9887 - 1s/epoch - 4ms/step\n",
            "Epoch 28/50\n",
            "375/375 - 1s - loss: 5.0809e-06 - accuracy: 1.0000 - val_loss: 0.0730 - val_accuracy: 0.9887 - 1s/epoch - 4ms/step\n",
            "Epoch 29/50\n",
            "375/375 - 1s - loss: 4.3658e-06 - accuracy: 1.0000 - val_loss: 0.0739 - val_accuracy: 0.9889 - 1s/epoch - 4ms/step\n",
            "Epoch 30/50\n",
            "375/375 - 2s - loss: 3.5493e-06 - accuracy: 1.0000 - val_loss: 0.0752 - val_accuracy: 0.9889 - 2s/epoch - 5ms/step\n",
            "Epoch 31/50\n",
            "375/375 - 2s - loss: 3.0064e-06 - accuracy: 1.0000 - val_loss: 0.0752 - val_accuracy: 0.9887 - 2s/epoch - 4ms/step\n",
            "Epoch 32/50\n",
            "375/375 - 1s - loss: 2.5024e-06 - accuracy: 1.0000 - val_loss: 0.0771 - val_accuracy: 0.9889 - 1s/epoch - 4ms/step\n",
            "Epoch 33/50\n",
            "375/375 - 1s - loss: 2.1116e-06 - accuracy: 1.0000 - val_loss: 0.0775 - val_accuracy: 0.9887 - 1s/epoch - 4ms/step\n",
            "Epoch 34/50\n",
            "375/375 - 1s - loss: 1.7361e-06 - accuracy: 1.0000 - val_loss: 0.0785 - val_accuracy: 0.9888 - 1s/epoch - 4ms/step\n",
            "Epoch 35/50\n",
            "375/375 - 1s - loss: 1.4597e-06 - accuracy: 1.0000 - val_loss: 0.0800 - val_accuracy: 0.9888 - 1s/epoch - 4ms/step\n",
            "Epoch 36/50\n",
            "375/375 - 1s - loss: 1.1995e-06 - accuracy: 1.0000 - val_loss: 0.0801 - val_accuracy: 0.9887 - 1s/epoch - 4ms/step\n",
            "Epoch 37/50\n",
            "375/375 - 1s - loss: 1.0049e-06 - accuracy: 1.0000 - val_loss: 0.0819 - val_accuracy: 0.9888 - 1s/epoch - 4ms/step\n",
            "Epoch 38/50\n",
            "375/375 - 2s - loss: 8.3543e-07 - accuracy: 1.0000 - val_loss: 0.0822 - val_accuracy: 0.9888 - 2s/epoch - 4ms/step\n",
            "Epoch 39/50\n",
            "375/375 - 2s - loss: 7.1111e-07 - accuracy: 1.0000 - val_loss: 0.0836 - val_accuracy: 0.9891 - 2s/epoch - 5ms/step\n",
            "Epoch 40/50\n",
            "375/375 - 2s - loss: 5.8410e-07 - accuracy: 1.0000 - val_loss: 0.0853 - val_accuracy: 0.9893 - 2s/epoch - 4ms/step\n",
            "Epoch 41/50\n",
            "375/375 - 1s - loss: 4.7688e-07 - accuracy: 1.0000 - val_loss: 0.0849 - val_accuracy: 0.9890 - 1s/epoch - 4ms/step\n",
            "Epoch 42/50\n",
            "375/375 - 1s - loss: 3.9482e-07 - accuracy: 1.0000 - val_loss: 0.0863 - val_accuracy: 0.9890 - 1s/epoch - 4ms/step\n",
            "Epoch 43/50\n",
            "375/375 - 1s - loss: 3.4057e-07 - accuracy: 1.0000 - val_loss: 0.0878 - val_accuracy: 0.9891 - 1s/epoch - 4ms/step\n",
            "Epoch 44/50\n",
            "375/375 - 1s - loss: 2.7772e-07 - accuracy: 1.0000 - val_loss: 0.0881 - val_accuracy: 0.9892 - 1s/epoch - 4ms/step\n",
            "Epoch 45/50\n",
            "375/375 - 1s - loss: 2.3121e-07 - accuracy: 1.0000 - val_loss: 0.0898 - val_accuracy: 0.9889 - 1s/epoch - 4ms/step\n",
            "Epoch 46/50\n",
            "375/375 - 1s - loss: 1.9281e-07 - accuracy: 1.0000 - val_loss: 0.0916 - val_accuracy: 0.9892 - 1s/epoch - 4ms/step\n",
            "Epoch 47/50\n",
            "375/375 - 2s - loss: 1.6237e-07 - accuracy: 1.0000 - val_loss: 0.0924 - val_accuracy: 0.9891 - 2s/epoch - 4ms/step\n",
            "Epoch 48/50\n",
            "375/375 - 2s - loss: 1.3682e-07 - accuracy: 1.0000 - val_loss: 0.0931 - val_accuracy: 0.9892 - 2s/epoch - 5ms/step\n",
            "Epoch 49/50\n",
            "375/375 - 2s - loss: 1.1566e-07 - accuracy: 1.0000 - val_loss: 0.0938 - val_accuracy: 0.9889 - 2s/epoch - 4ms/step\n",
            "Epoch 50/50\n",
            "375/375 - 1s - loss: 9.5347e-08 - accuracy: 1.0000 - val_loss: 0.0949 - val_accuracy: 0.9890 - 1s/epoch - 4ms/step\n"
          ]
        }
      ]
    },
    {
      "cell_type": "code",
      "source": [
        "def plot_history(history):\n",
        "    plt.figure()\n",
        "    plt.subplot(2,1,1)\n",
        "    plt.plot(history.history['loss'])\n",
        "    plt.plot(history.history['val_loss'])\n",
        "    plt.ylabel('loss')\n",
        "    plt.xlabel('epoch')\n",
        "    plt.legend(['train', 'validation'])\n",
        "    plt.subplot(2,1,2)\n",
        "    plt.plot(history.history['accuracy'])\n",
        "    plt.plot(history.history['val_accuracy'])\n",
        "    plt.ylabel('accuracy')\n",
        "    plt.xlabel('epoch')\n",
        "    plt.legend(['train', 'validation'])\n",
        "    return;\n",
        "\n",
        "plot_history(history)"
      ],
      "metadata": {
        "colab": {
          "base_uri": "https://localhost:8080/",
          "height": 282
        },
        "id": "2lYvM5HyULvp",
        "outputId": "79f77dca-9232-405a-f12a-05a5f48a2871"
      },
      "execution_count": 16,
      "outputs": [
        {
          "output_type": "display_data",
          "data": {
            "text/plain": [
              "<Figure size 432x288 with 2 Axes>"
            ],
            "image/png": "[encoded data removed]"
          },
          "metadata": {
            "needs_background": "light"
          }
        }
      ]
    },
    {
      "cell_type": "markdown",
      "source": [
        "## Predicting new cases"
      ],
      "metadata": {
        "id": "kMHhtwj3VO62"
      }
    },
    {
      "cell_type": "code",
      "source": [
        "preds_prob = model1.predict(X_test[0:100,:,:,:])\n",
        "preds_class = np.argmax(preds_prob, axis=1)\n",
        "preds_class"
      ],
      "metadata": {
        "colab": {
          "base_uri": "https://localhost:8080/"
        },
        "id": "On_5TcRUUuhA",
        "outputId": "d3c8294e-5328-4fae-9740-f399a1a78ef3"
      },
      "execution_count": 17,
      "outputs": [
        {
          "output_type": "stream",
          "name": "stdout",
          "text": [
            "4/4 [==============================] - 0s 15ms/step\n"
          ]
        },
        {
          "output_type": "execute_result",
          "data": {
            "text/plain": [
              "array([7, 2, 1, 0, 4, 1, 4, 9, 5, 9, 0, 6, 9, 0, 1, 5, 9, 7, 5, 4, 9, 6,\n",
              "       6, 5, 4, 0, 7, 4, 0, 1, 3, 1, 3, 4, 7, 2, 7, 1, 2, 1, 1, 7, 4, 2,\n",
              "       3, 5, 1, 2, 4, 4, 6, 3, 5, 5, 6, 0, 4, 1, 9, 5, 7, 8, 9, 3, 7, 4,\n",
              "       6, 4, 3, 0, 7, 0, 2, 9, 1, 7, 3, 2, 9, 7, 7, 6, 2, 7, 8, 4, 7, 3,\n",
              "       6, 1, 3, 6, 9, 3, 1, 4, 1, 7, 6, 9])"
            ]
          },
          "metadata": {},
          "execution_count": 17
        }
      ]
    },
    {
      "cell_type": "code",
      "source": [
        "plt.figure(facecolor='w')\n",
        "for i in range(16):\n",
        "  plt.subplot(4,4,i+1)\n",
        "  plt.tight_layout()\n",
        "  plt.imshow(X_test_img[i], cmap='gray', interpolation='none')\n",
        "  plt.title(\"True:{}, Pred:{}\".format(y_test_img[i],preds_class[i]))\n",
        "  plt.xticks([])\n",
        "  plt.yticks([])"
      ],
      "metadata": {
        "colab": {
          "base_uri": "https://localhost:8080/",
          "height": 284
        },
        "id": "zSQ2JzTbVSy3",
        "outputId": "f2535fc8-4682-4f3c-bb2a-1aaa434bf894"
      },
      "execution_count": 18,
      "outputs": [
        {
          "output_type": "display_data",
          "data": {
            "text/plain": [
              "<Figure size 432x288 with 16 Axes>"
            ],
            "image/png": "[encoded data removed]"
          },
          "metadata": {}
        }
      ]
    },
    {
      "cell_type": "markdown",
      "source": [
        "## Model Performance"
      ],
      "metadata": {
        "id": "-GUD0sS5VrON"
      }
    },
    {
      "cell_type": "code",
      "source": [
        "test_scores_model1 = model1.evaluate(X_test, y_test, verbose=0)\n",
        "print(\"Test loss model 1:\", test_scores_model1[0])\n",
        "print(\"Test accuracy model 1:\", test_scores_model1[1])\n",
        "train_scores_model1 = model1.evaluate(X_train, y_train, verbose=0)\n",
        "print(\"Train loss model 1:\", train_scores_model1[0])\n",
        "print(\"Train accuracy model 1:\", train_scores_model1[1])"
      ],
      "metadata": {
        "colab": {
          "base_uri": "https://localhost:8080/"
        },
        "id": "i4-vc5HYVgbF",
        "outputId": "d1aa4cc1-9f74-4d7e-afbb-56275970f140"
      },
      "execution_count": 19,
      "outputs": [
        {
          "output_type": "stream",
          "name": "stdout",
          "text": [
            "Test loss model 1: 0.07941501587629318\n",
            "Test accuracy model 1: 0.9890999794006348\n",
            "Train loss model 1: 0.01897151581943035\n",
            "Train accuracy model 1: 0.9977999925613403\n"
          ]
        }
      ]
    },
    {
      "cell_type": "markdown",
      "source": [
        "## Model variant\n",
        "We will proceed with implementing a variant of the above model. It will contain further convolutional + max-pooling layers and remove the hidden dense layer."
      ],
      "metadata": {
        "id": "Vkf4ispaV4nM"
      }
    },
    {
      "cell_type": "code",
      "source": [
        "model1 = Sequential()\n",
        "model1.add(Conv2D(filters=32, kernel_size=(3,3), activation='relu', input_shape=(28,28,1)))\n",
        "model1.add(MaxPool2D((2,2)))\n",
        "model1.add(Conv2D(filters=32, kernel_size=(3,3), activation='relu'))\n",
        "model1.add(MaxPool2D((2,2)))\n",
        "model1.add(Conv2D(filters=32, kernel_size=(3,3), activation='relu'))\n",
        "model1.add(MaxPool2D((2,2)))\n",
        "model1.add(Flatten())\n",
        "model1.add(Dense(10, activation='softmax'))\n",
        "model1.summary()"
      ],
      "metadata": {
        "colab": {
          "base_uri": "https://localhost:8080/"
        },
        "id": "--jFEPMVVugN",
        "outputId": "f3eba148-95c6-4702-983f-f7fadd85cc4a"
      },
      "execution_count": 20,
      "outputs": [
        {
          "output_type": "stream",
          "name": "stdout",
          "text": [
            "Model: \"sequential_2\"\n",
            "_________________________________________________________________\n",
            " Layer (type)                Output Shape              Param #   \n",
            "=================================================================\n",
            " conv2d_2 (Conv2D)           (None, 26, 26, 32)        320       \n",
            "                                                                 \n",
            " max_pooling2d_2 (MaxPooling  (None, 13, 13, 32)       0         \n",
            " 2D)                                                             \n",
            "                                                                 \n",
            " conv2d_3 (Conv2D)           (None, 11, 11, 32)        9248      \n",
            "                                                                 \n",
            " max_pooling2d_3 (MaxPooling  (None, 5, 5, 32)         0         \n",
            " 2D)                                                             \n",
            "                                                                 \n",
            " conv2d_4 (Conv2D)           (None, 3, 3, 32)          9248      \n",
            "                                                                 \n",
            " max_pooling2d_4 (MaxPooling  (None, 1, 1, 32)         0         \n",
            " 2D)                                                             \n",
            "                                                                 \n",
            " flatten_2 (Flatten)         (None, 32)                0         \n",
            "                                                                 \n",
            " dense_4 (Dense)             (None, 10)                330       \n",
            "                                                                 \n",
            "=================================================================\n",
            "Total params: 19,146\n",
            "Trainable params: 19,146\n",
            "Non-trainable params: 0\n",
            "_________________________________________________________________\n"
          ]
        }
      ]
    },
    {
      "cell_type": "code",
      "source": [
        "from tensorflow.keras.utils import plot_model\n",
        "plot_model(model1)"
      ],
      "metadata": {
        "colab": {
          "base_uri": "https://localhost:8080/",
          "height": 856
        },
        "id": "vmH8VaRRV7bd",
        "outputId": "27849e07-05f9-4395-b4ac-c0fe838de420"
      },
      "execution_count": 47,
      "outputs": [
        {
          "output_type": "execute_result",
          "data": {
            "image/png": "[encoded data removed]",
            "text/plain": [
              "<IPython.core.display.Image object>"
            ]
          },
          "metadata": {},
          "execution_count": 47
        }
      ]
    },
    {
      "cell_type": "code",
      "source": [
        "model1.compile(loss='categorical_crossentropy', metrics=['accuracy'], optimizer='adam')"
      ],
      "metadata": {
        "id": "3TAu9Uk2WDc9"
      },
      "execution_count": 22,
      "outputs": []
    },
    {
      "cell_type": "markdown",
      "source": [
        "Before we train the model, we can find useful to save the initial weights so they can be reuse later on.\n",
        "We use get_weights and set_weights functions to this aim."
      ],
      "metadata": {
        "id": "5QKifiaIXStp"
      }
    },
    {
      "cell_type": "code",
      "source": [
        "initial_weights = model1.get_weights()"
      ],
      "metadata": {
        "id": "CKT5hsasWF3k"
      },
      "execution_count": 27,
      "outputs": []
    },
    {
      "cell_type": "code",
      "source": [
        "history = model1.fit(X_train, y_train,\n",
        "          batch_size=128, epochs=50,\n",
        "          verbose=2,\n",
        "          validation_split=0.2)"
      ],
      "metadata": {
        "colab": {
          "base_uri": "https://localhost:8080/"
        },
        "id": "mY-_sBdfXWvz",
        "outputId": "229a1f08-3f3b-4964-9d3f-8850856e8c36"
      },
      "execution_count": 28,
      "outputs": [
        {
          "output_type": "stream",
          "name": "stdout",
          "text": [
            "Epoch 1/50\n",
            "375/375 - 3s - loss: 0.5212 - accuracy: 0.8463 - val_loss: 0.1877 - val_accuracy: 0.9415 - 3s/epoch - 9ms/step\n",
            "Epoch 2/50\n",
            "375/375 - 2s - loss: 0.1639 - accuracy: 0.9498 - val_loss: 0.1335 - val_accuracy: 0.9607 - 2s/epoch - 5ms/step\n",
            "Epoch 3/50\n",
            "375/375 - 2s - loss: 0.1260 - accuracy: 0.9609 - val_loss: 0.1181 - val_accuracy: 0.9655 - 2s/epoch - 6ms/step\n",
            "Epoch 4/50\n",
            "375/375 - 2s - loss: 0.1039 - accuracy: 0.9680 - val_loss: 0.1011 - val_accuracy: 0.9706 - 2s/epoch - 4ms/step\n",
            "Epoch 5/50\n",
            "375/375 - 2s - loss: 0.0907 - accuracy: 0.9728 - val_loss: 0.0934 - val_accuracy: 0.9722 - 2s/epoch - 4ms/step\n",
            "Epoch 6/50\n",
            "375/375 - 1s - loss: 0.0795 - accuracy: 0.9759 - val_loss: 0.0805 - val_accuracy: 0.9768 - 1s/epoch - 4ms/step\n",
            "Epoch 7/50\n",
            "375/375 - 1s - loss: 0.0707 - accuracy: 0.9785 - val_loss: 0.0786 - val_accuracy: 0.9769 - 1s/epoch - 4ms/step\n",
            "Epoch 8/50\n",
            "375/375 - 2s - loss: 0.0668 - accuracy: 0.9793 - val_loss: 0.0823 - val_accuracy: 0.9777 - 2s/epoch - 4ms/step\n",
            "Epoch 9/50\n",
            "375/375 - 2s - loss: 0.0604 - accuracy: 0.9808 - val_loss: 0.0747 - val_accuracy: 0.9783 - 2s/epoch - 4ms/step\n",
            "Epoch 10/50\n",
            "375/375 - 2s - loss: 0.0527 - accuracy: 0.9835 - val_loss: 0.0733 - val_accuracy: 0.9798 - 2s/epoch - 5ms/step\n",
            "Epoch 11/50\n",
            "375/375 - 2s - loss: 0.0517 - accuracy: 0.9840 - val_loss: 0.0773 - val_accuracy: 0.9783 - 2s/epoch - 7ms/step\n",
            "Epoch 12/50\n",
            "375/375 - 2s - loss: 0.0461 - accuracy: 0.9854 - val_loss: 0.0692 - val_accuracy: 0.9801 - 2s/epoch - 4ms/step\n",
            "Epoch 13/50\n",
            "375/375 - 2s - loss: 0.0429 - accuracy: 0.9865 - val_loss: 0.0718 - val_accuracy: 0.9789 - 2s/epoch - 4ms/step\n",
            "Epoch 14/50\n",
            "375/375 - 1s - loss: 0.0416 - accuracy: 0.9873 - val_loss: 0.0697 - val_accuracy: 0.9798 - 1s/epoch - 4ms/step\n",
            "Epoch 15/50\n",
            "375/375 - 1s - loss: 0.0373 - accuracy: 0.9885 - val_loss: 0.0727 - val_accuracy: 0.9790 - 1s/epoch - 4ms/step\n",
            "Epoch 16/50\n",
            "375/375 - 2s - loss: 0.0357 - accuracy: 0.9883 - val_loss: 0.0687 - val_accuracy: 0.9811 - 2s/epoch - 4ms/step\n",
            "Epoch 17/50\n",
            "375/375 - 2s - loss: 0.0341 - accuracy: 0.9889 - val_loss: 0.0647 - val_accuracy: 0.9824 - 2s/epoch - 4ms/step\n",
            "Epoch 18/50\n",
            "375/375 - 2s - loss: 0.0320 - accuracy: 0.9898 - val_loss: 0.0693 - val_accuracy: 0.9812 - 2s/epoch - 5ms/step\n",
            "Epoch 19/50\n",
            "375/375 - 2s - loss: 0.0295 - accuracy: 0.9909 - val_loss: 0.0645 - val_accuracy: 0.9833 - 2s/epoch - 6ms/step\n",
            "Epoch 20/50\n",
            "375/375 - 1s - loss: 0.0288 - accuracy: 0.9909 - val_loss: 0.0660 - val_accuracy: 0.9818 - 1s/epoch - 4ms/step\n",
            "Epoch 21/50\n",
            "375/375 - 2s - loss: 0.0258 - accuracy: 0.9916 - val_loss: 0.0683 - val_accuracy: 0.9818 - 2s/epoch - 4ms/step\n",
            "Epoch 22/50\n",
            "375/375 - 1s - loss: 0.0239 - accuracy: 0.9920 - val_loss: 0.0672 - val_accuracy: 0.9823 - 1s/epoch - 4ms/step\n",
            "Epoch 23/50\n",
            "375/375 - 1s - loss: 0.0228 - accuracy: 0.9923 - val_loss: 0.0769 - val_accuracy: 0.9815 - 1s/epoch - 4ms/step\n",
            "Epoch 24/50\n",
            "375/375 - 2s - loss: 0.0211 - accuracy: 0.9932 - val_loss: 0.0709 - val_accuracy: 0.9829 - 2s/epoch - 4ms/step\n",
            "Epoch 25/50\n",
            "375/375 - 1s - loss: 0.0195 - accuracy: 0.9938 - val_loss: 0.0661 - val_accuracy: 0.9843 - 1s/epoch - 4ms/step\n",
            "Epoch 26/50\n",
            "375/375 - 2s - loss: 0.0190 - accuracy: 0.9938 - val_loss: 0.0699 - val_accuracy: 0.9832 - 2s/epoch - 4ms/step\n",
            "Epoch 27/50\n",
            "375/375 - 2s - loss: 0.0178 - accuracy: 0.9941 - val_loss: 0.0759 - val_accuracy: 0.9815 - 2s/epoch - 6ms/step\n",
            "Epoch 28/50\n",
            "375/375 - 1s - loss: 0.0149 - accuracy: 0.9952 - val_loss: 0.0756 - val_accuracy: 0.9824 - 1s/epoch - 4ms/step\n",
            "Epoch 29/50\n",
            "375/375 - 1s - loss: 0.0144 - accuracy: 0.9953 - val_loss: 0.0747 - val_accuracy: 0.9834 - 1s/epoch - 4ms/step\n",
            "Epoch 30/50\n",
            "375/375 - 2s - loss: 0.0129 - accuracy: 0.9959 - val_loss: 0.0765 - val_accuracy: 0.9832 - 2s/epoch - 4ms/step\n",
            "Epoch 31/50\n",
            "375/375 - 2s - loss: 0.0124 - accuracy: 0.9961 - val_loss: 0.0861 - val_accuracy: 0.9817 - 2s/epoch - 4ms/step\n",
            "Epoch 32/50\n",
            "375/375 - 1s - loss: 0.0109 - accuracy: 0.9965 - val_loss: 0.0764 - val_accuracy: 0.9826 - 1s/epoch - 4ms/step\n",
            "Epoch 33/50\n",
            "375/375 - 2s - loss: 0.0120 - accuracy: 0.9959 - val_loss: 0.0777 - val_accuracy: 0.9829 - 2s/epoch - 4ms/step\n",
            "Epoch 34/50\n",
            "375/375 - 2s - loss: 0.0114 - accuracy: 0.9961 - val_loss: 0.0812 - val_accuracy: 0.9829 - 2s/epoch - 5ms/step\n",
            "Epoch 35/50\n",
            "375/375 - 2s - loss: 0.0084 - accuracy: 0.9975 - val_loss: 0.0783 - val_accuracy: 0.9828 - 2s/epoch - 7ms/step\n",
            "Epoch 36/50\n",
            "375/375 - 2s - loss: 0.0068 - accuracy: 0.9981 - val_loss: 0.0855 - val_accuracy: 0.9816 - 2s/epoch - 4ms/step\n",
            "Epoch 37/50\n",
            "375/375 - 2s - loss: 0.0120 - accuracy: 0.9957 - val_loss: 0.0970 - val_accuracy: 0.9794 - 2s/epoch - 4ms/step\n",
            "Epoch 38/50\n",
            "375/375 - 2s - loss: 0.0092 - accuracy: 0.9970 - val_loss: 0.0827 - val_accuracy: 0.9833 - 2s/epoch - 4ms/step\n",
            "Epoch 39/50\n",
            "375/375 - 2s - loss: 0.0067 - accuracy: 0.9977 - val_loss: 0.0854 - val_accuracy: 0.9831 - 2s/epoch - 4ms/step\n",
            "Epoch 40/50\n",
            "375/375 - 1s - loss: 0.0073 - accuracy: 0.9975 - val_loss: 0.1066 - val_accuracy: 0.9787 - 1s/epoch - 4ms/step\n",
            "Epoch 41/50\n",
            "375/375 - 1s - loss: 0.0066 - accuracy: 0.9978 - val_loss: 0.0804 - val_accuracy: 0.9842 - 1s/epoch - 4ms/step\n",
            "Epoch 42/50\n",
            "375/375 - 2s - loss: 0.0082 - accuracy: 0.9971 - val_loss: 0.0893 - val_accuracy: 0.9833 - 2s/epoch - 5ms/step\n",
            "Epoch 43/50\n",
            "375/375 - 2s - loss: 0.0059 - accuracy: 0.9981 - val_loss: 0.0886 - val_accuracy: 0.9834 - 2s/epoch - 6ms/step\n",
            "Epoch 44/50\n",
            "375/375 - 2s - loss: 0.0042 - accuracy: 0.9989 - val_loss: 0.0884 - val_accuracy: 0.9846 - 2s/epoch - 4ms/step\n",
            "Epoch 45/50\n",
            "375/375 - 1s - loss: 0.0060 - accuracy: 0.9979 - val_loss: 0.1044 - val_accuracy: 0.9827 - 1s/epoch - 4ms/step\n",
            "Epoch 46/50\n",
            "375/375 - 1s - loss: 0.0091 - accuracy: 0.9966 - val_loss: 0.0996 - val_accuracy: 0.9833 - 1s/epoch - 4ms/step\n",
            "Epoch 47/50\n",
            "375/375 - 1s - loss: 0.0078 - accuracy: 0.9973 - val_loss: 0.0940 - val_accuracy: 0.9836 - 1s/epoch - 4ms/step\n",
            "Epoch 48/50\n",
            "375/375 - 1s - loss: 0.0050 - accuracy: 0.9984 - val_loss: 0.0939 - val_accuracy: 0.9841 - 1s/epoch - 4ms/step\n",
            "Epoch 49/50\n",
            "375/375 - 1s - loss: 0.0047 - accuracy: 0.9985 - val_loss: 0.0911 - val_accuracy: 0.9850 - 1s/epoch - 4ms/step\n",
            "Epoch 50/50\n",
            "375/375 - 2s - loss: 0.0034 - accuracy: 0.9990 - val_loss: 0.0893 - val_accuracy: 0.9846 - 2s/epoch - 5ms/step\n"
          ]
        }
      ]
    },
    {
      "cell_type": "code",
      "source": [
        "plot_history(history)"
      ],
      "metadata": {
        "colab": {
          "base_uri": "https://localhost:8080/",
          "height": 279
        },
        "id": "X3zA6bR-YJaX",
        "outputId": "b82b8218-fc73-4bcc-f087-9185557e8fe8"
      },
      "execution_count": 30,
      "outputs": [
        {
          "output_type": "display_data",
          "data": {
            "text/plain": [
              "<Figure size 432x288 with 2 Axes>"
            ],
            "image/png": "[encoded data removed]"
          },
          "metadata": {
            "needs_background": "light"
          }
        }
      ]
    },
    {
      "cell_type": "markdown",
      "source": [
        "## Early stopping\n",
        "We can implement early stopping in Tensorflow by the use of *callbacks*, which are functions that are called during training.\n",
        "\n",
        "* For instance, the code below implements a basic `EarlyStopping` function that uses the default argument values. Please refer to the Tensorflow documentation for details about the `EarlyStopping` arguments and their meaning."
      ],
      "metadata": {
        "id": "I7vRY-DqYt6f"
      }
    },
    {
      "cell_type": "code",
      "source": [
        "from tensorflow.keras.callbacks import EarlyStopping\n",
        "early_stopping = EarlyStopping()"
      ],
      "metadata": {
        "id": "PzerAuR7YUe4"
      },
      "execution_count": 31,
      "outputs": []
    },
    {
      "cell_type": "markdown",
      "source": [
        "* To train the model again, we should use the initial weights we saved before. If we fail to do this, `fit` function would use the weight values from the last training iteration.\n",
        "* We use `set_weights` function to reset the weights to the initial ones:"
      ],
      "metadata": {
        "id": "-srmZMFNY0X3"
      }
    },
    {
      "cell_type": "code",
      "source": [
        "# Now, we can train the model again but using early stopping this time.\n",
        "model1.set_weights(initial_weights)"
      ],
      "metadata": {
        "id": "CgLL81tRYybQ"
      },
      "execution_count": 32,
      "outputs": []
    },
    {
      "cell_type": "code",
      "source": [
        "history = model1.fit(X_train, y_train,\n",
        "          batch_size=128, epochs=100,\n",
        "          verbose=2,\n",
        "          validation_split=0.2,\n",
        "          callbacks=[early_stopping])"
      ],
      "metadata": {
        "colab": {
          "base_uri": "https://localhost:8080/"
        },
        "id": "TFZx8LwsY6r-",
        "outputId": "018a0bbb-a0a5-438a-e7f8-a7cd2a893448"
      },
      "execution_count": 33,
      "outputs": [
        {
          "output_type": "stream",
          "name": "stdout",
          "text": [
            "Epoch 1/100\n",
            "375/375 - 3s - loss: 0.4594 - accuracy: 0.8558 - val_loss: 0.1602 - val_accuracy: 0.9511 - 3s/epoch - 8ms/step\n",
            "Epoch 2/100\n",
            "375/375 - 3s - loss: 0.1473 - accuracy: 0.9549 - val_loss: 0.1241 - val_accuracy: 0.9614 - 3s/epoch - 7ms/step\n"
          ]
        }
      ]
    },
    {
      "cell_type": "code",
      "source": [
        "# a better version of early stopping\n",
        "custom_early_stopping = EarlyStopping(\n",
        "    monitor='val_loss', \n",
        "    patience=8, \n",
        "    min_delta=0.001\n",
        ")"
      ],
      "metadata": {
        "id": "z0aMx8mhZHl2"
      },
      "execution_count": 34,
      "outputs": []
    },
    {
      "cell_type": "code",
      "source": [
        "model1.set_weights(initial_weights)\n",
        "history = model1.fit(X_train, y_train,\n",
        "          batch_size=128, epochs=100,\n",
        "          verbose=2,\n",
        "          validation_split=0.2,\n",
        "          callbacks=[custom_early_stopping])"
      ],
      "metadata": {
        "colab": {
          "base_uri": "https://localhost:8080/"
        },
        "id": "FE6YXmx7Zbmn",
        "outputId": "146545ac-8b25-4a3a-86b5-ce4f513472e0"
      },
      "execution_count": 35,
      "outputs": [
        {
          "output_type": "stream",
          "name": "stdout",
          "text": [
            "Epoch 1/100\n",
            "375/375 - 2s - loss: 0.6140 - accuracy: 0.8139 - val_loss: 0.1671 - val_accuracy: 0.9526 - 2s/epoch - 4ms/step\n",
            "Epoch 2/100\n",
            "375/375 - 2s - loss: 0.1561 - accuracy: 0.9519 - val_loss: 0.1337 - val_accuracy: 0.9598 - 2s/epoch - 4ms/step\n",
            "Epoch 3/100\n",
            "375/375 - 1s - loss: 0.1149 - accuracy: 0.9643 - val_loss: 0.1072 - val_accuracy: 0.9677 - 1s/epoch - 4ms/step\n",
            "Epoch 4/100\n",
            "375/375 - 2s - loss: 0.0993 - accuracy: 0.9688 - val_loss: 0.0975 - val_accuracy: 0.9712 - 2s/epoch - 4ms/step\n",
            "Epoch 5/100\n",
            "375/375 - 2s - loss: 0.0856 - accuracy: 0.9737 - val_loss: 0.0868 - val_accuracy: 0.9756 - 2s/epoch - 6ms/step\n",
            "Epoch 6/100\n",
            "375/375 - 2s - loss: 0.0770 - accuracy: 0.9759 - val_loss: 0.0813 - val_accuracy: 0.9771 - 2s/epoch - 5ms/step\n",
            "Epoch 7/100\n",
            "375/375 - 1s - loss: 0.0711 - accuracy: 0.9779 - val_loss: 0.0831 - val_accuracy: 0.9748 - 1s/epoch - 4ms/step\n",
            "Epoch 8/100\n",
            "375/375 - 2s - loss: 0.0667 - accuracy: 0.9794 - val_loss: 0.0757 - val_accuracy: 0.9789 - 2s/epoch - 4ms/step\n",
            "Epoch 9/100\n",
            "375/375 - 1s - loss: 0.0603 - accuracy: 0.9810 - val_loss: 0.0820 - val_accuracy: 0.9763 - 1s/epoch - 4ms/step\n",
            "Epoch 10/100\n",
            "375/375 - 2s - loss: 0.0568 - accuracy: 0.9825 - val_loss: 0.0774 - val_accuracy: 0.9771 - 2s/epoch - 4ms/step\n",
            "Epoch 11/100\n",
            "375/375 - 2s - loss: 0.0512 - accuracy: 0.9838 - val_loss: 0.0716 - val_accuracy: 0.9791 - 2s/epoch - 4ms/step\n",
            "Epoch 12/100\n",
            "375/375 - 1s - loss: 0.0489 - accuracy: 0.9841 - val_loss: 0.0693 - val_accuracy: 0.9807 - 1s/epoch - 4ms/step\n",
            "Epoch 13/100\n",
            "375/375 - 2s - loss: 0.0451 - accuracy: 0.9854 - val_loss: 0.0626 - val_accuracy: 0.9824 - 2s/epoch - 6ms/step\n",
            "Epoch 14/100\n",
            "375/375 - 2s - loss: 0.0424 - accuracy: 0.9862 - val_loss: 0.0767 - val_accuracy: 0.9762 - 2s/epoch - 5ms/step\n",
            "Epoch 15/100\n",
            "375/375 - 2s - loss: 0.0392 - accuracy: 0.9874 - val_loss: 0.0732 - val_accuracy: 0.9787 - 2s/epoch - 4ms/step\n",
            "Epoch 16/100\n",
            "375/375 - 2s - loss: 0.0369 - accuracy: 0.9883 - val_loss: 0.0620 - val_accuracy: 0.9831 - 2s/epoch - 4ms/step\n",
            "Epoch 17/100\n",
            "375/375 - 1s - loss: 0.0328 - accuracy: 0.9895 - val_loss: 0.0633 - val_accuracy: 0.9827 - 1s/epoch - 4ms/step\n",
            "Epoch 18/100\n",
            "375/375 - 2s - loss: 0.0325 - accuracy: 0.9890 - val_loss: 0.0617 - val_accuracy: 0.9822 - 2s/epoch - 4ms/step\n",
            "Epoch 19/100\n",
            "375/375 - 2s - loss: 0.0297 - accuracy: 0.9902 - val_loss: 0.0697 - val_accuracy: 0.9815 - 2s/epoch - 4ms/step\n",
            "Epoch 20/100\n",
            "375/375 - 2s - loss: 0.0284 - accuracy: 0.9905 - val_loss: 0.0692 - val_accuracy: 0.9809 - 2s/epoch - 4ms/step\n",
            "Epoch 21/100\n",
            "375/375 - 3s - loss: 0.0264 - accuracy: 0.9916 - val_loss: 0.0736 - val_accuracy: 0.9793 - 3s/epoch - 7ms/step\n"
          ]
        }
      ]
    },
    {
      "cell_type": "code",
      "source": [
        "plot_history(history)"
      ],
      "metadata": {
        "colab": {
          "base_uri": "https://localhost:8080/",
          "height": 279
        },
        "id": "VFHvY-VhZeNf",
        "outputId": "0b1d018f-aeee-442d-b1bd-1bdf1919483d"
      },
      "execution_count": 36,
      "outputs": [
        {
          "output_type": "display_data",
          "data": {
            "text/plain": [
              "<Figure size 432x288 with 2 Axes>"
            ],
            "image/png": "[encoded data removed]"
          },
          "metadata": {
            "needs_background": "light"
          }
        }
      ]
    },
    {
      "cell_type": "code",
      "source": [],
      "metadata": {
        "id": "ENFBgEZTZgDO"
      },
      "execution_count": null,
      "outputs": []
    }
  ]
}